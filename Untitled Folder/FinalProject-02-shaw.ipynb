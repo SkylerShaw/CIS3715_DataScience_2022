{
 "cells": [
  {
   "cell_type": "markdown",
   "id": "ebd9001c",
   "metadata": {},
   "source": [
    "This is the start of my CIS3715 final project."
   ]
  },
  {
   "cell_type": "code",
   "execution_count": 2,
   "id": "ab80cd77",
   "metadata": {},
   "outputs": [
    {
     "name": "stdout",
     "output_type": "stream",
     "text": [
      "label       0\n",
      "pixel0      0\n",
      "pixel1      0\n",
      "pixel2      0\n",
      "pixel3      0\n",
      "           ..\n",
      "pixel779    0\n",
      "pixel780    0\n",
      "pixel781    0\n",
      "pixel782    0\n",
      "pixel783    0\n",
      "Length: 785, dtype: int64\n",
      "\n",
      "There is no missing data\n",
      "\n",
      "<class 'pandas.core.frame.DataFrame'>\n",
      "RangeIndex: 42000 entries, 0 to 41999\n",
      "Columns: 785 entries, label to pixel783\n",
      "dtypes: int64(785)\n",
      "memory usage: 251.5 MB\n",
      "None\n",
      "\n",
      "There are no categorical features\n",
      "\n"
     ]
    }
   ],
   "source": [
    "import numpy as np\n",
    "import pandas as pd\n",
    "import matplotlib.pyplot as plt\n",
    "from sklearn.model_selection import train_test_split, cross_val_score\n",
    "from sklearn.neighbors import KNeighborsClassifier\n",
    "from sklearn.cluster import KMeans\n",
    "from sklearn.model_selection import cross_val_score\n",
    "from sklearn.metrics import accuracy_score, f1_score, confusion_matrix\n",
    "from sklearn.metrics.cluster import normalized_mutual_info_score\n",
    "from sklearn.metrics.cluster import completeness_score\n",
    "from scipy.optimize import linear_sum_assignment as linear_assignment\n",
    "\n",
    "df = pd.read_csv('train.csv')\n",
    "print(df.isnull().sum())\n",
    "print(\"\\nThere is no missing data\\n\")\n",
    "print(df.info())\n",
    "print(\"\\nThere are no categorical features\\n\")"
   ]
  },
  {
   "cell_type": "code",
   "execution_count": 3,
   "id": "aa42b26c",
   "metadata": {},
   "outputs": [],
   "source": [
    "def cluster_acc(y_true, y_pred):\n",
    "    cm = confusion_matrix(y_true, y_pred)\n",
    "    _make_cost_m = lambda x:-x + np.max(x)\n",
    "    indexes = linear_assignment(_make_cost_m(cm))\n",
    "    indexes = np.concatenate([indexes[0][:,np.newaxis],indexes[1][:,np.newaxis]], axis=-1)\n",
    "    js = [e[1] for e in sorted(indexes, key=lambda x: x[0])]\n",
    "    cm2 = cm[:, js]\n",
    "    acc = np.trace(cm2) / np.sum(cm2)\n",
    "    return acc"
   ]
  },
  {
   "cell_type": "markdown",
   "id": "f7073019",
   "metadata": {},
   "source": [
    "Start of algorithms"
   ]
  },
  {
   "cell_type": "code",
   "execution_count": 6,
   "id": "e114d12d",
   "metadata": {},
   "outputs": [
    {
     "name": "stdout",
     "output_type": "stream",
     "text": [
      "nmi_kNN: 0.9246374728529267\n",
      "acc_kNN: 0.9692460317460317\n",
      "\n",
      "completeness_score_kmeans: 0.495871947271757\n",
      "nmi_kmeans: 0.4922020575545281\n",
      "acc_kmeans: 0.540079365079365\n"
     ]
    }
   ],
   "source": [
    "features = df.drop('label', axis=1).values\n",
    "targets = df['label'].values\n",
    "\n",
    "#Split training into training and testing\n",
    "X_train_val, X_test, y_train_val, y_test = train_test_split(features, targets, test_size=0.12, random_state=0)\n",
    "\n",
    "#ks = np.arange(2, 11)\n",
    "#scores = []\n",
    "#for i in ks:\n",
    "clf_knn =  KNeighborsClassifier(n_neighbors=3)\n",
    "#    score = cross_val_score(clf_knn,X_train_val,y_train_val,cv=5)\n",
    "#    print(i)\n",
    "#    score.mean()\n",
    "#    scores.append(score.mean())\n",
    "\n",
    "clf_knn.fit(X_train_val, y_train_val)\n",
    "test_pred = clf_knn.predict(X_test)\n",
    "\n",
    "#plt.plot(ks, scores)\n",
    "#plt.xlabel('k')\n",
    "#plt.ylabel('accuracy')\n",
    "#plt.show()\n",
    "\n",
    "cluster_kmeans = KMeans(n_clusters=10, random_state=10)\n",
    "#cluster_kmeans.fit(X_train_val, y_train_val)\n",
    "cluster_kmeans.fit(features)\n",
    "test_pred_kmeans = cluster_kmeans.predict(X_test)\n",
    "\n",
    "acc = accuracy_score(y_test, test_pred)\n",
    "cluster_kmeans_acc = cluster_acc(y_test, test_pred_kmeans)\n",
    "nmi_kNN = normalized_mutual_info_score(y_test, test_pred, average_method='arithmetic')\n",
    "nmi_kmeans = normalized_mutual_info_score(y_test, test_pred_kmeans, average_method='arithmetic')\n",
    "print(\"nmi_kNN: \" + str(nmi_kNN))\n",
    "print(\"acc_kNN: \" + str(acc))\n",
    "print(\"\\ncompleteness_score_kmeans: \" + str(completeness_score(y_test, test_pred_kmeans)))\n",
    "print(\"nmi_kmeans: \" + str(nmi_kmeans))\n",
    "print(\"acc_kmeans: \" + str(cluster_kmeans_acc))\n",
    "\n",
    "\n"
   ]
  },
  {
   "cell_type": "markdown",
   "id": "b5d8c610",
   "metadata": {},
   "source": [
    "Plotting Results"
   ]
  },
  {
   "cell_type": "code",
   "execution_count": 11,
   "id": "5fc3f9f9",
   "metadata": {},
   "outputs": [
    {
     "data": {
      "image/png": "[encoded data removed]",
      "text/plain": [
       "<Figure size 432x288 with 1 Axes>"
      ]
     },
     "metadata": {
      "needs_background": "light"
     },
     "output_type": "display_data"
    },
    {
     "data": {
      "image/png": "[encoded data removed]",
      "text/plain": [
       "<Figure size 432x288 with 1 Axes>"
      ]
     },
     "metadata": {
      "needs_background": "light"
     },
     "output_type": "display_data"
    }
   ],
   "source": [
    "plt.bar(['kNN','k-Means'], [nmi_kNN, nmi_kmeans])\n",
    "plt.xlabel('Models')\n",
    "plt.ylabel('Score')\n",
    "plt.title('NMI Scores')\n",
    "plt.show()\n",
    "\n",
    "plt.bar(['kNN','k-Means'], [acc, cluster_kmeans_acc])\n",
    "plt.xlabel('Models')\n",
    "plt.ylabel('Score')\n",
    "plt.title('Accuracy Scores')\n",
    "plt.show()\n",
    "\n"
   ]
  },
  {
   "cell_type": "code",
   "execution_count": null,
   "id": "dbd622b0",
   "metadata": {},
   "outputs": [],
   "source": []
  }
 ],
 "metadata": {
  "kernelspec": {
   "display_name": "Python 3 (ipykernel)",
   "language": "python",
   "name": "python3"
  },
  "language_info": {
   "codemirror_mode": {
    "name": "ipython",
    "version": 3
   },
   "file_extension": ".py",
   "mimetype": "text/x-python",
   "name": "python",
   "nbconvert_exporter": "python",
   "pygments_lexer": "ipython3",
   "version": "3.9.7"
  }
 },
 "nbformat": 4,
 "nbformat_minor": 5
}
