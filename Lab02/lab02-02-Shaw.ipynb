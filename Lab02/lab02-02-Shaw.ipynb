{
 "cells": [
  {
   "cell_type": "markdown",
   "metadata": {},
   "source": [
    "# Lab 2: Data Preprocessing"
   ]
  },
  {
   "cell_type": "markdown",
   "metadata": {},
   "source": [
    "In this assignment, we will learn how to explore the raw data and preprocess it. \n",
    "\n",
    "The dataset we are going to exlore is an insurance data. It provides different features of each user as follows:\n",
    "* age: age of the user\n",
    "* sex: gender of the user\n",
    "* bmi: body mass index, providing an understanding of body\n",
    "* children: number of children covered by health insurance / number of dependents\n",
    "* smoker: smoker or not\n",
    "* region: the user's residential area in the US, northeast, southeast, southwest, northwest.\n",
    "\n",
    "Additionally, the medical cost of each user is also provided: \n",
    "* charges: the medical cost \n",
    "\n",
    "Please follow Lecture 5_data_understanding and Lecture 6_data_preprocessing to complete following questions. "
   ]
  },
  {
   "cell_type": "markdown",
   "metadata": {},
   "source": [
    "### Q1. Load data with Pandas and output the basic information of this dataset, such as the features and their data types.  Which features are numerical features and which users are categorical features?\n"
   ]
  },
  {
   "cell_type": "code",
   "execution_count": 5,
   "metadata": {},
   "outputs": [
    {
     "name": "stdout",
     "output_type": "stream",
     "text": [
      "The numerical features are age, bmi, children, and charges\n",
      "The categorical features are sex, smoker, and region\n"
     ]
    }
   ],
   "source": [
    "# your code\n",
    "import pandas as pd\n",
    "df = pd.read_csv('insurance.csv')\n",
    "df.dtypes\n",
    "print(\"The numerical features are age, bmi, children, and charges\")\n",
    "print(\"The categorical features are sex, smoker, and region\")"
   ]
  },
  {
   "cell_type": "markdown",
   "metadata": {},
   "source": [
    "### Q2. Check whether there are missing values in this dataset."
   ]
  },
  {
   "cell_type": "code",
   "execution_count": 6,
   "metadata": {},
   "outputs": [
    {
     "data": {
      "text/plain": [
       "age         0\n",
       "sex         0\n",
       "bmi         0\n",
       "children    0\n",
       "smoker      0\n",
       "region      0\n",
       "charges     0\n",
       "dtype: int64"
      ]
     },
     "execution_count": 6,
     "metadata": {},
     "output_type": "execute_result"
    }
   ],
   "source": [
    "# your code\n",
    "df.isnull().sum()"
   ]
  },
  {
   "cell_type": "markdown",
   "metadata": {},
   "source": [
    "### Q3. Visualize all numerical features with histogram plot to see the distribution of each numerical feature. \n"
   ]
  },
  {
   "cell_type": "code",
   "execution_count": 7,
   "metadata": {},
   "outputs": [
    {
     "data": {
      "image/png": "[encoded data removed]",
      "text/plain": [
       "<Figure size 432x288 with 4 Axes>"
      ]
     },
     "metadata": {
      "needs_background": "light"
     },
     "output_type": "display_data"
    }
   ],
   "source": [
    "# your code\n",
    "import matplotlib.pyplot as plt\n",
    "df.hist()\n",
    "plt.show()\n"
   ]
  },
  {
   "cell_type": "markdown",
   "metadata": {},
   "source": [
    "### Q4. Use corr() function of Pandas to show the correlation between different numerical features"
   ]
  },
  {
   "cell_type": "code",
   "execution_count": 8,
   "metadata": {},
   "outputs": [
    {
     "data": {
      "text/html": [
       "<style type=\"text/css\">\n",
       "#T_b2830_row0_col0, #T_b2830_row1_col1, #T_b2830_row2_col2, #T_b2830_row3_col3 {\n",
       "  background-color: #023858;\n",
       "  color: #f1f1f1;\n",
       "}\n",
       "#T_b2830_row0_col1 {\n",
       "  background-color: #f0eaf4;\n",
       "  color: #000000;\n",
       "}\n",
       "#T_b2830_row0_col2 {\n",
       "  background-color: #fbf3f9;\n",
       "  color: #000000;\n",
       "}\n",
       "#T_b2830_row0_col3 {\n",
       "  background-color: #d1d2e6;\n",
       "  color: #000000;\n",
       "}\n",
       "#T_b2830_row1_col0 {\n",
       "  background-color: #f5eef6;\n",
       "  color: #000000;\n",
       "}\n",
       "#T_b2830_row1_col2, #T_b2830_row2_col0, #T_b2830_row2_col1, #T_b2830_row2_col3 {\n",
       "  background-color: #fff7fb;\n",
       "  color: #000000;\n",
       "}\n",
       "#T_b2830_row1_col3 {\n",
       "  background-color: #e9e5f1;\n",
       "  color: #000000;\n",
       "}\n",
       "#T_b2830_row3_col0 {\n",
       "  background-color: #cacee5;\n",
       "  color: #000000;\n",
       "}\n",
       "#T_b2830_row3_col1 {\n",
       "  background-color: #dedcec;\n",
       "  color: #000000;\n",
       "}\n",
       "#T_b2830_row3_col2 {\n",
       "  background-color: #f7f0f7;\n",
       "  color: #000000;\n",
       "}\n",
       "</style>\n",
       "<table id=\"T_b2830_\">\n",
       "  <thead>\n",
       "    <tr>\n",
       "      <th class=\"blank level0\" >&nbsp;</th>\n",
       "      <th class=\"col_heading level0 col0\" >age</th>\n",
       "      <th class=\"col_heading level0 col1\" >bmi</th>\n",
       "      <th class=\"col_heading level0 col2\" >children</th>\n",
       "      <th class=\"col_heading level0 col3\" >charges</th>\n",
       "    </tr>\n",
       "  </thead>\n",
       "  <tbody>\n",
       "    <tr>\n",
       "      <th id=\"T_b2830_level0_row0\" class=\"row_heading level0 row0\" >age</th>\n",
       "      <td id=\"T_b2830_row0_col0\" class=\"data row0 col0\" >1.000000</td>\n",
       "      <td id=\"T_b2830_row0_col1\" class=\"data row0 col1\" >0.109272</td>\n",
       "      <td id=\"T_b2830_row0_col2\" class=\"data row0 col2\" >0.042469</td>\n",
       "      <td id=\"T_b2830_row0_col3\" class=\"data row0 col3\" >0.299008</td>\n",
       "    </tr>\n",
       "    <tr>\n",
       "      <th id=\"T_b2830_level0_row1\" class=\"row_heading level0 row1\" >bmi</th>\n",
       "      <td id=\"T_b2830_row1_col0\" class=\"data row1 col0\" >0.109272</td>\n",
       "      <td id=\"T_b2830_row1_col1\" class=\"data row1 col1\" >1.000000</td>\n",
       "      <td id=\"T_b2830_row1_col2\" class=\"data row1 col2\" >0.012759</td>\n",
       "      <td id=\"T_b2830_row1_col3\" class=\"data row1 col3\" >0.198341</td>\n",
       "    </tr>\n",
       "    <tr>\n",
       "      <th id=\"T_b2830_level0_row2\" class=\"row_heading level0 row2\" >children</th>\n",
       "      <td id=\"T_b2830_row2_col0\" class=\"data row2 col0\" >0.042469</td>\n",
       "      <td id=\"T_b2830_row2_col1\" class=\"data row2 col1\" >0.012759</td>\n",
       "      <td id=\"T_b2830_row2_col2\" class=\"data row2 col2\" >1.000000</td>\n",
       "      <td id=\"T_b2830_row2_col3\" class=\"data row2 col3\" >0.067998</td>\n",
       "    </tr>\n",
       "    <tr>\n",
       "      <th id=\"T_b2830_level0_row3\" class=\"row_heading level0 row3\" >charges</th>\n",
       "      <td id=\"T_b2830_row3_col0\" class=\"data row3 col0\" >0.299008</td>\n",
       "      <td id=\"T_b2830_row3_col1\" class=\"data row3 col1\" >0.198341</td>\n",
       "      <td id=\"T_b2830_row3_col2\" class=\"data row3 col2\" >0.067998</td>\n",
       "      <td id=\"T_b2830_row3_col3\" class=\"data row3 col3\" >1.000000</td>\n",
       "    </tr>\n",
       "  </tbody>\n",
       "</table>\n"
      ],
      "text/plain": [
       "<pandas.io.formats.style.Styler at 0x182f66d17f0>"
      ]
     },
     "execution_count": 8,
     "metadata": {},
     "output_type": "execute_result"
    }
   ],
   "source": [
    "# your code\n",
    "hcorr = df.corr()\n",
    "hcorr.style.background_gradient()"
   ]
  },
  {
   "cell_type": "markdown",
   "metadata": {},
   "source": [
    "### Q5. For all categorical features, use bar plot to visualize the number of users within each category."
   ]
  },
  {
   "cell_type": "code",
   "execution_count": 9,
   "metadata": {},
   "outputs": [
    {
     "data": {
      "image/png": "[encoded data removed]",
      "text/plain": [
       "<Figure size 432x288 with 1 Axes>"
      ]
     },
     "metadata": {
      "needs_background": "light"
     },
     "output_type": "display_data"
    },
    {
     "data": {
      "image/png": "[encoded data removed]",
      "text/plain": [
       "<Figure size 432x288 with 1 Axes>"
      ]
     },
     "metadata": {
      "needs_background": "light"
     },
     "output_type": "display_data"
    },
    {
     "data": {
      "image/png": "[encoded data removed]",
      "text/plain": [
       "<Figure size 432x288 with 1 Axes>"
      ]
     },
     "metadata": {
      "needs_background": "light"
     },
     "output_type": "display_data"
    }
   ],
   "source": [
    "# your code\n",
    "df['sex'].value_counts().plot(kind = 'bar')\n",
    "plt.show()\n",
    "df['smoker'].value_counts().plot(kind = 'bar')\n",
    "plt.show()\n",
    "df['region'].value_counts().plot(kind = 'bar')\n",
    "plt.show()"
   ]
  },
  {
   "cell_type": "markdown",
   "metadata": {},
   "source": [
    "### Q6. Convert all categorical features into numerical features with Label Encoding or One-Hot Encoding"
   ]
  },
  {
   "cell_type": "code",
   "execution_count": 11,
   "metadata": {},
   "outputs": [
    {
     "name": "stdout",
     "output_type": "stream",
     "text": [
      "1    676\n",
      "0    662\n",
      "Name: sex, dtype: int64\n",
      "0    1064\n",
      "1     274\n",
      "Name: smoker, dtype: int64\n",
      "2    364\n",
      "3    325\n",
      "1    325\n",
      "0    324\n",
      "Name: region, dtype: int64\n"
     ]
    }
   ],
   "source": [
    "# your code\n",
    "from sklearn.preprocessing import LabelEncoder\n",
    "\n",
    "#print(df[\"sex\"].value_counts())\n",
    "\n",
    "labelencoder = LabelEncoder()\n",
    "df['sex'] = labelencoder.fit_transform(df['sex'])\n",
    "df['smoker'] = labelencoder.fit_transform(df['smoker'])\n",
    "df['region'] = labelencoder.fit_transform(df['region'])\n",
    "\n",
    "print(df[\"sex\"].value_counts())\n",
    "print(df[\"smoker\"].value_counts())\n",
    "print(df[\"region\"].value_counts())\n"
   ]
  },
  {
   "cell_type": "markdown",
   "metadata": {},
   "source": [
    "### Q7. Normalize all numerical features"
   ]
  },
  {
   "cell_type": "code",
   "execution_count": 14,
   "metadata": {},
   "outputs": [
    {
     "name": "stdout",
     "output_type": "stream",
     "text": [
      "[[1.         0.74828136]\n",
      " [0.50000006 0.        ]\n",
      " [0.50000006 0.13445483]\n",
      " [0.         1.        ]\n",
      " [0.         0.1056968 ]]\n"
     ]
    }
   ],
   "source": [
    "# your code\n",
    "import numpy as np\n",
    "\n",
    "X = df.values[0:5,5:9].astype(dtype=np.float32)\n",
    "x_min = X.min(axis=0)\n",
    "x_max = X.max(axis=0)\n",
    "X = (X-x_min)/(x_max-x_min)\n",
    "print(X)"
   ]
  },
  {
   "cell_type": "markdown",
   "metadata": {},
   "source": [
    "### Q8. Save your preprocessed data into a csv file. Submit your code and the preprocessed data."
   ]
  },
  {
   "cell_type": "code",
   "execution_count": 13,
   "metadata": {},
   "outputs": [],
   "source": [
    "import pandas as pd\n",
    "df= pd.DataFrame(X)\n",
    "df.to_csv('PreprocessedData.csv', index=False)"
   ]
  },
  {
   "cell_type": "code",
   "execution_count": null,
   "metadata": {},
   "outputs": [],
   "source": []
  }
 ],
 "metadata": {
  "kernelspec": {
   "display_name": "Python 3 (ipykernel)",
   "language": "python",
   "name": "python3"
  },
  "language_info": {
   "codemirror_mode": {
    "name": "ipython",
    "version": 3
   },
   "file_extension": ".py",
   "mimetype": "text/x-python",
   "name": "python",
   "nbconvert_exporter": "python",
   "pygments_lexer": "ipython3",
   "version": "3.9.7"
  }
 },
 "nbformat": 4,
 "nbformat_minor": 2
}
